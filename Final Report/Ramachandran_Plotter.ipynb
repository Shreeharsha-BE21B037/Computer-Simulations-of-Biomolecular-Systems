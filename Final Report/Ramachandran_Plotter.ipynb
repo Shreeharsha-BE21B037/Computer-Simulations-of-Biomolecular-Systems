{
 "cells": [
  {
   "cell_type": "code",
   "execution_count": null,
   "id": "62c0f8b0",
   "metadata": {},
   "outputs": [],
   "source": [
    "#import all relevant libraries\n",
    "import re\n",
    "import math\n",
    "from matplotlib import pyplot as plt\n",
    "import numpy as np"
   ]
  },
  {
   "cell_type": "code",
   "execution_count": null,
   "id": "fbee6c1f",
   "metadata": {},
   "outputs": [],
   "source": [
    "# def of all functions used in the below code\n",
    "\n",
    "#Finds the length of the vector\n",
    "def mod(Vector):\n",
    "    squares = 0\n",
    "    for i in range(len(Vector)):\n",
    "        squares += (Vector[i])*(Vector[i])    \n",
    "    Mod_value = (squares)**0.5\n",
    "    return abs(Mod_value)\n",
    "\n",
    "\n",
    "#Finds the Dot Product of two given Vectors in 3D\n",
    "def Dot(Vector1,Vector2):\n",
    "    Dot_product = 0\n",
    "    for i in range(3):\n",
    "        Dot_product += Vector1[i] * Vector2[i]\n",
    "        \n",
    "    return Dot_product\n",
    "\n",
    "\n",
    "#Finds the Angle between given two vectors\n",
    "def Angle_Btw(Vector1,Vector2):\n",
    "    Angle_Btw = math.acos( Dot(Vector1,Vector2) / ( mod(Vector1) * mod(Vector2) ) )\n",
    "    \n",
    "    return Angle_Btw\n",
    "\n",
    "#Finds the unit vector normal to the given two vector inputs\n",
    "def NormalVec(Vector1,Vector2):\n",
    "    normal = []\n",
    "    Cross_Product = np.cross(Vector1,Vector2).tolist()\n",
    "    \n",
    "    Denominator =mod(Vector1) * mod(Vector2) * math.sin(Angle_Btw(Vector1,Vector2))\n",
    "    \n",
    "    for Dimensions in range(3):\n",
    "        coordinate = Cross_Product[Dimensions]/ ( Denominator ) \n",
    "        normal.append(coordinate)\n",
    "        \n",
    "    return normal\n",
    "\n",
    "#Given two coordinates, outputs a vector going from one to the other\n",
    "def Vec(coord1,coord2):\n",
    "    Vec = []\n",
    "    for i in range(1,4):\n",
    "        Vec.append(float(coord1[i]) - float(coord2[i]))\n",
    "        \n",
    "    return Vec"
   ]
  },
  {
   "cell_type": "code",
   "execution_count": null,
   "id": "f8f7f992",
   "metadata": {},
   "outputs": [],
   "source": [
    "#location of locally located PDB file\n",
    "PDBfile = open(\"C:\\\\Users\\\\shree\\\\OneDrive\\\\Desktop\\\\ACADS\\\\Bio Simulations\\\\Final Report\\\\chmx_S631N.pdb\")"
   ]
  },
  {
   "cell_type": "code",
   "execution_count": null,
   "id": "27940d9c",
   "metadata": {},
   "outputs": [],
   "source": [
    "#Read appropriate lines required from the PDB files\n",
    "Atoms = []\n",
    "Atoms_nospaces = []\n",
    "for lines in PDBfile.readlines():\n",
    "    term = lines.strip()\n",
    "    if term.startswith('ATOM'):\n",
    "        Atoms.append(term) \n",
    "    elif term.startswith('TER'):\n",
    "        break\n",
    "        \n",
    "\n",
    "# Filter Atom information\n",
    "for elements in Atoms:\n",
    "    elements = re.sub('\\s+', ' ', elements).strip() #strips extra white spaces in a string\n",
    "    SingleAtomDetail = []\n",
    "    Mol = elements.split(\" \")\n",
    "    \n",
    "    if Mol[2] in ['C','N', 'CA']:\n",
    "        for number in [2,5,6,7]: #[Name, Xcoordinate, Ycoordinate, Zcoordinate]\n",
    "            SingleAtomDetail.append(Mol[number])\n",
    "        \n",
    "        Atoms_nospaces.append(SingleAtomDetail)\n",
    "\n",
    "#Sanity Check\n",
    "for i in range(len(Atoms_nospaces)):\n",
    "    print(Atoms_nospaces[i])"
   ]
  },
  {
   "cell_type": "code",
   "execution_count": null,
   "id": "cb522718",
   "metadata": {},
   "outputs": [],
   "source": [
    "#Inititalize the set for all Phi and Psi values\n",
    "Phi_values = [] \n",
    "Psi_values = []\n",
    "\n",
    "for start in range(len(Atoms_nospaces)-3):\n",
    "    # Finding all Phi values\n",
    "    if Atoms_nospaces[start][0] == 'C' and Atoms_nospaces[start+1][0] == 'N' and Atoms_nospaces[start+2][0] == 'CA' and Atoms_nospaces[start+3][0] == 'C':\n",
    "        a = Vec(Atoms_nospaces[start],Atoms_nospaces[start+1])\n",
    "        b = Vec(Atoms_nospaces[start+1],Atoms_nospaces[start+2])\n",
    "        c = Vec(Atoms_nospaces[start+2],Atoms_nospaces[start+3])\n",
    "        \n",
    "        Normal_12 = NormalVec(a,b)\n",
    "        Normal_23 = NormalVec(b,c)\n",
    "        \n",
    "        Cos_Phi = Dot(Normal_12, Normal_23)\n",
    "        \n",
    "        # Sign of the torsional angle is determined\n",
    "        if Dot(a,(np.cross(b,c).tolist())) >= 0:\n",
    "            Phi_values.append(-math.acos(Cos_Phi))\n",
    "        else:\n",
    "            Phi_values.append(math.acos(Cos_Phi))\n",
    "        \n",
    "        \n",
    "    # Finding all Psi values\n",
    "    elif Atoms_nospaces[start][0] == 'N' and Atoms_nospaces[start+1][0] == 'CA' and Atoms_nospaces[start+2][0] == 'C' and Atoms_nospaces[start+3][0] == 'N':\n",
    "        vec1 = Vec(Atoms_nospaces[start],Atoms_nospaces[start+1])\n",
    "        vec2 = Vec(Atoms_nospaces[start+1],Atoms_nospaces[start+2])\n",
    "        vec3 = Vec(Atoms_nospaces[start+2],Atoms_nospaces[start+3])\n",
    "        \n",
    "        Normal_12 = NormalVec(vec1,vec2)\n",
    "        Normal_23 = NormalVec(vec2,vec3)\n",
    "        Cos_Psi = Dot(Normal_12, Normal_23)\n",
    "        \n",
    "        # Sign of the torsional angle is determined\n",
    "        if Dot(vec1,(np.cross(vec2,vec3).tolist())) >= 0:\n",
    "            Psi_values.append(-math.acos(Cos_Psi))\n",
    "        else:\n",
    "            Psi_values.append(math.acos(Cos_Psi))  \n",
    "        "
   ]
  },
  {
   "cell_type": "code",
   "execution_count": null,
   "id": "2373fde7",
   "metadata": {},
   "outputs": [],
   "source": [
    "#The first residue will not have a Phi value and the last residue will not have a complimentary Psi value\n",
    "Phi_values =  [None] + Phi_values\n",
    "Psi_values = Psi_values + [None]"
   ]
  },
  {
   "cell_type": "code",
   "execution_count": null,
   "id": "cdc6dc0b",
   "metadata": {},
   "outputs": [],
   "source": [
    "#Plot the Ramachandran Plot for 1CCV\n",
    "plt.figure(figsize=(5,5),dpi=200)\n",
    "plt.scatter(Phi_values,Psi_values, marker='+',alpha=1);\n",
    "plt.xlabel(\"φ (rad)\")\n",
    "plt.ylabel(\"ψ (rad)\")\n",
    "plt.title(\"Ramachandran Plot - chmx_wt\")\n",
    "plt.axhline(0,ls=\"-\",c=\"black\",lw=0.5);\n",
    "plt.axvline(0,ls=\"-\",c=\"black\",lw=0.5);"
   ]
  },
  {
   "attachments": {
    "image.png": {
     "image/png": "[encoded data removed]"
    }
   },
   "cell_type": "markdown",
   "id": "13613c62",
   "metadata": {},
   "source": [
    "# The plot was compared with an Online Calculator\n",
    "\n",
    "![image.png](attachment:image.png)"
   ]
  },
  {
   "cell_type": "code",
   "execution_count": null,
   "id": "6417e6fb",
   "metadata": {},
   "outputs": [],
   "source": []
  }
 ],
 "metadata": {
  "kernelspec": {
   "display_name": "Python 3 (ipykernel)",
   "language": "python",
   "name": "python3"
  },
  "language_info": {
   "codemirror_mode": {
    "name": "ipython",
    "version": 3
   },
   "file_extension": ".py",
   "mimetype": "text/x-python",
   "name": "python",
   "nbconvert_exporter": "python",
   "pygments_lexer": "ipython3",
   "version": "3.11.4"
  }
 },
 "nbformat": 4,
 "nbformat_minor": 5
}
